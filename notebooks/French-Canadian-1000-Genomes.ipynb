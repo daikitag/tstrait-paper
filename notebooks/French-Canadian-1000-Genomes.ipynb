{
 "cells": [
  {
   "cell_type": "markdown",
   "id": "31cb84da",
   "metadata": {},
   "source": [
    "# Number of causal sites\n",
    "\n",
    "This notebook uses the French Canadian dataset and the inferred tree sequence from the 1000 Genomes Project to examine how the number of causal sites is influencing the simulation speed.\n",
    "\n",
    "### Dataset:\n",
    "\n",
    "The datasets are obtained from the following links:\n",
    "\n",
    "- French Canadian dataset (`simulated_genomes_chr9.tsz`) is installed from https://zenodo.org/record/6839683\n",
    "- 1000 Genomes Project dataset (`1kg_chr9.trees.tsz`) is installed from https://zenodo.org/record/3051855\n",
    "\n",
    "Please put the datasets in `data` folder before running the codes."
   ]
  },
  {
   "cell_type": "code",
   "execution_count": 1,
   "id": "3385b2d7",
   "metadata": {},
   "outputs": [],
   "source": [
    "import tstrait\n",
    "import time\n",
    "import numpy as np\n",
    "import pandas as pd\n",
    "import tszip\n",
    "import msprime"
   ]
  },
  {
   "cell_type": "code",
   "execution_count": 2,
   "id": "57dc1b62",
   "metadata": {},
   "outputs": [],
   "source": [
    "# Run this code before measuring the computational time, as tstrait uses numba\n",
    "ts = msprime.sim_ancestry(samples=1000, recombination_rate=1e-8, sequence_length=10_000, population_size=10_000,)\n",
    "ts = msprime.sim_mutations(ts, rate=1e-8)\n",
    "trait_model = tstrait.trait_model(distribution=\"normal\", mean=0, var=1)\n",
    "sim_result = tstrait.sim_phenotype(ts, num_causal=1, model=trait_model, h2=0.3)"
   ]
  },
  {
   "cell_type": "code",
   "execution_count": 3,
   "id": "40078c70",
   "metadata": {},
   "outputs": [],
   "source": [
    "# This code simulates traits for num_rep times by using tstrait, and returns the array of simulation time\n",
    "def compute_time_tstrait(ts, num_causal, num_rep):\n",
    "    times = []\n",
    "    trait_model = tstrait.trait_model(distribution=\"normal\", mean=0, var=1)\n",
    "    for _ in range(num_rep):\n",
    "        before = time.perf_counter()\n",
    "        sim_result = tstrait.sim_phenotype(ts, num_causal=num_causal, model=trait_model, h2=0.3)\n",
    "        duration = time.perf_counter() - before\n",
    "        times.append(duration)\n",
    "    return times"
   ]
  },
  {
   "cell_type": "markdown",
   "id": "92e5be40",
   "metadata": {},
   "source": [
    "## French Canadian dataset\n",
    "\n",
    "We will be using chromosome 9 data in the French Canadian dataset. We will be measuing the computational time for 100 causal sites."
   ]
  },
  {
   "cell_type": "code",
   "execution_count": 4,
   "id": "975a21ab",
   "metadata": {},
   "outputs": [],
   "source": [
    "# French Canadian dataset\n",
    "ts = tszip.decompress(\"data/simulated_genomes_chr9.tsz\")"
   ]
  },
  {
   "cell_type": "code",
   "execution_count": 5,
   "id": "d5b58d9e",
   "metadata": {},
   "outputs": [
    {
     "data": {
      "text/plain": [
       "2723339"
      ]
     },
     "execution_count": 5,
     "metadata": {},
     "output_type": "execute_result"
    }
   ],
   "source": [
    "# Number of individuals\n",
    "ts.num_individuals"
   ]
  },
  {
   "cell_type": "code",
   "execution_count": 6,
   "id": "790c8a04",
   "metadata": {},
   "outputs": [
    {
     "data": {
      "text/plain": [
       "48896598"
      ]
     },
     "execution_count": 6,
     "metadata": {},
     "output_type": "execute_result"
    }
   ],
   "source": [
    "# Number of sites\n",
    "ts.num_sites"
   ]
  },
  {
   "cell_type": "code",
   "execution_count": 7,
   "id": "cd6e500f",
   "metadata": {},
   "outputs": [],
   "source": [
    "french_canadian_time = compute_time_tstrait(ts=ts, num_causal=100, num_rep=5)"
   ]
  },
  {
   "cell_type": "code",
   "execution_count": 8,
   "id": "99494295",
   "metadata": {},
   "outputs": [
    {
     "data": {
      "text/plain": [
       "[90.01081990008242,\n",
       " 80.33812760002911,\n",
       " 74.56985790003091,\n",
       " 77.97003110009246,\n",
       " 80.5568057000637]"
      ]
     },
     "execution_count": 8,
     "metadata": {},
     "output_type": "execute_result"
    }
   ],
   "source": [
    "french_canadian_time"
   ]
  },
  {
   "cell_type": "code",
   "execution_count": 9,
   "id": "40132e7e",
   "metadata": {},
   "outputs": [
    {
     "data": {
      "text/plain": [
       "80.68912844005972"
      ]
     },
     "execution_count": 9,
     "metadata": {},
     "output_type": "execute_result"
    }
   ],
   "source": [
    "np.mean(french_canadian_time)"
   ]
  },
  {
   "cell_type": "markdown",
   "id": "12df0f39",
   "metadata": {},
   "source": [
    "# 1000 Genomes Dataset\n",
    "\n",
    "We will be using chromosome 9 data in the 1000 Genomes dataset. We will be measuing the computational time for 1000 causal sites."
   ]
  },
  {
   "cell_type": "code",
   "execution_count": 10,
   "id": "1d1dac92",
   "metadata": {},
   "outputs": [],
   "source": [
    "# 1000 Genomes project\n",
    "ts = tszip.decompress(\"data/1kg_chr9.trees.tsz\")"
   ]
  },
  {
   "cell_type": "code",
   "execution_count": 11,
   "id": "5d63b10f",
   "metadata": {},
   "outputs": [
    {
     "data": {
      "text/plain": [
       "2504"
      ]
     },
     "execution_count": 11,
     "metadata": {},
     "output_type": "execute_result"
    }
   ],
   "source": [
    "# Number of individuals\n",
    "ts.num_individuals"
   ]
  },
  {
   "cell_type": "code",
   "execution_count": 12,
   "id": "9f4c48b7",
   "metadata": {},
   "outputs": [
    {
     "data": {
      "text/plain": [
       "1685401"
      ]
     },
     "execution_count": 12,
     "metadata": {},
     "output_type": "execute_result"
    }
   ],
   "source": [
    "# Number of sites\n",
    "ts.num_sites"
   ]
  },
  {
   "cell_type": "code",
   "execution_count": 13,
   "id": "faa5c23b",
   "metadata": {},
   "outputs": [],
   "source": [
    "thousand_genome_time = compute_time_tstrait(ts=ts, num_causal=100, num_rep=5)"
   ]
  },
  {
   "cell_type": "code",
   "execution_count": 14,
   "id": "3d8990dd",
   "metadata": {},
   "outputs": [
    {
     "data": {
      "text/plain": [
       "[5.869191699894145,\n",
       " 5.408523800084367,\n",
       " 5.1522061000578105,\n",
       " 5.103017200017348,\n",
       " 5.487022200017236]"
      ]
     },
     "execution_count": 14,
     "metadata": {},
     "output_type": "execute_result"
    }
   ],
   "source": [
    "thousand_genome_time"
   ]
  },
  {
   "cell_type": "code",
   "execution_count": 15,
   "id": "9c34e1a1",
   "metadata": {},
   "outputs": [
    {
     "data": {
      "text/plain": [
       "5.403992200014182"
      ]
     },
     "execution_count": 15,
     "metadata": {},
     "output_type": "execute_result"
    }
   ],
   "source": [
    "np.mean(thousand_genome_time)"
   ]
  }
 ],
 "metadata": {
  "kernelspec": {
   "display_name": "tstrait",
   "language": "python",
   "name": "tstrait"
  },
  "language_info": {
   "codemirror_mode": {
    "name": "ipython",
    "version": 3
   },
   "file_extension": ".py",
   "mimetype": "text/x-python",
   "name": "python",
   "nbconvert_exporter": "python",
   "pygments_lexer": "ipython3",
   "version": "3.11.5"
  }
 },
 "nbformat": 4,
 "nbformat_minor": 5
}
