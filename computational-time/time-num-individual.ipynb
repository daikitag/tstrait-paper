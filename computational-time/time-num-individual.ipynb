{
 "cells": [
  {
   "cell_type": "markdown",
   "id": "185e2704",
   "metadata": {},
   "source": [
    "# Number of individuals\n",
    "\n",
    "In this example, we will be seeing how the number of individuals is influencing the simulation time of tstrait. We will also be comparing the simulation time of tstrait and the simulation framework described in Martin et al. (2017)."
   ]
  },
  {
   "cell_type": "code",
   "execution_count": null,
   "id": "8b1927df",
   "metadata": {},
   "outputs": [],
   "source": [
    "import tstrait\n",
    "import tskit\n",
    "import time\n",
    "import numpy as np\n",
    "import stdpopsim\n",
    "import itertools\n",
    "import pandas as pd"
   ]
  },
  {
   "cell_type": "code",
   "execution_count": null,
   "id": "5c21d6b2",
   "metadata": {},
   "outputs": [],
   "source": [
    "def compute_time_tstrait(ts):\n",
    "    times = []\n",
    "    num_causal = 1000\n",
    "    trait_model = tstrait.trait_model(distribution=\"normal\", mean=0, var=1)\n",
    "    for _ in range(10):\n",
    "        before = time.perf_counter()\n",
    "        sim_result = tstrait.sim_phenotype(ts, num_causal, trait_model, 0.3)\n",
    "        duration = time.perf_counter() - before\n",
    "        times.append(duration)\n",
    "    return np.array(times)"
   ]
  },
  {
   "cell_type": "code",
   "execution_count": null,
   "id": "0ff41d47",
   "metadata": {},
   "outputs": [],
   "source": [
    "species = stdpopsim.get_species(\"HomSap\")\n",
    "model = stdpopsim.PiecewiseConstantSize(species.population_size)\n",
    "engine = stdpopsim.get_engine(\"msprime\")"
   ]
  },
  {
   "cell_type": "code",
   "execution_count": null,
   "id": "5bccf3d4",
   "metadata": {},
   "outputs": [],
   "source": [
    "# tstrait simulation to compile the Python code by using numba\n",
    "samples = {\"pop_0\": 100}\n",
    "contig = species.get_contig(length=1_000_000)\n",
    "ts = engine.simulate(model, contig, samples)\n",
    "trait_model = tstrait.trait_model(distribution=\"normal\", mean=0, var=1)\n",
    "sim_result = tstrait.sim_phenotype(ts, 5, trait_model, 0.3)"
   ]
  },
  {
   "cell_type": "markdown",
   "id": "aa641921",
   "metadata": {},
   "source": [
    "## tstrait simulation"
   ]
  },
  {
   "cell_type": "code",
   "execution_count": null,
   "id": "9058655e",
   "metadata": {},
   "outputs": [],
   "source": [
    "time_result = {}"
   ]
  },
  {
   "cell_type": "code",
   "execution_count": null,
   "id": "108a818a",
   "metadata": {},
   "outputs": [],
   "source": [
    "# This is separated from the rest, as the sample size is really large\n",
    "length_array = [50, 100, 200]\n",
    "num_ind_array = [1, 2, 3, 4, 5]\n",
    "\n",
    "for length, num_ind in itertools.product(length_array, num_ind_array):\n",
    "    ts = tskit.load(\"{}e6_{}Mb_stdpopsim\".format(num_ind, length))\n",
    "    time_result[\"{}e6_{}Mb\".format(num_ind, length)] = compute_time_tstrait(ts)"
   ]
  },
  {
   "cell_type": "code",
   "execution_count": null,
   "id": "e1efb633",
   "metadata": {},
   "outputs": [],
   "source": [
    "time_df = pd.DataFrame(time_result)"
   ]
  },
  {
   "cell_type": "code",
   "execution_count": null,
   "id": "88093cf4",
   "metadata": {},
   "outputs": [],
   "source": [
    "time_df.to_csv(\"output/tstrait_time.csv\")"
   ]
  },
  {
   "cell_type": "code",
   "execution_count": null,
   "id": "16ae6640",
   "metadata": {},
   "outputs": [],
   "source": [
    "length_array = [50, 100, 200]\n",
    "num_ind_array = [50_000, 100_000, 250_000, 500_000]\n",
    "\n",
    "for length, num_ind in itertools.product(length_array, num_ind_array):\n",
    "    ts = tskit.load(\"{}_{}Mb_stdpopsim\".format(num_ind, length))\n",
    "    time_result[\"{}_{}Mb\".format(num_ind, length)] = compute_time_tstrait(ts)"
   ]
  },
  {
   "cell_type": "code",
   "execution_count": null,
   "id": "03fbe1bf",
   "metadata": {},
   "outputs": [],
   "source": [
    "time_df = pd.DataFrame(time_result)"
   ]
  },
  {
   "cell_type": "code",
   "execution_count": null,
   "id": "13bc3fe1",
   "metadata": {},
   "outputs": [],
   "source": [
    "time_df.to_csv(\"output/tstrait_time_1.csv\")"
   ]
  },
  {
   "cell_type": "code",
   "execution_count": null,
   "id": "450b49eb",
   "metadata": {},
   "outputs": [],
   "source": [
    "length_array = [50, 100, 200]\n",
    "num_ind_array = [1_000, 5_000, 10_000, 25_000]\n",
    "\n",
    "species = stdpopsim.get_species(\"HomSap\")\n",
    "model = stdpopsim.PiecewiseConstantSize(species.population_size)\n",
    "engine = stdpopsim.get_engine(\"msprime\")\n",
    "\n",
    "for length, num_ind in itertools.product(length_array, num_ind_array):\n",
    "    samples = {\"pop_0\": num_ind}\n",
    "    contig = species.get_contig(length= length * 1_000_000)\n",
    "    ts = engine.simulate(model, contig, samples)\n",
    "    time_result[\"{}_{}Mb\".format(num_ind, length)] = compute_time_tstrait(ts)"
   ]
  },
  {
   "cell_type": "code",
   "execution_count": null,
   "id": "d92319de",
   "metadata": {},
   "outputs": [],
   "source": [
    "time_df = pd.DataFrame(time_result)"
   ]
  },
  {
   "cell_type": "code",
   "execution_count": null,
   "id": "d7616c1c",
   "metadata": {},
   "outputs": [],
   "source": [
    "time_df.to_csv(\"output/tstrait_time_2.csv\")"
   ]
  },
  {
   "cell_type": "markdown",
   "id": "766f540e",
   "metadata": {},
   "source": [
    "## Martin et al. (2017) simulation"
   ]
  },
  {
   "cell_type": "code",
   "execution_count": null,
   "id": "1b73aa90",
   "metadata": {},
   "outputs": [],
   "source": [
    "from genotype_matrix import matrix"
   ]
  },
  {
   "cell_type": "code",
   "execution_count": null,
   "id": "0c2d4079",
   "metadata": {},
   "outputs": [],
   "source": [
    "def compute_time_martin(ts):\n",
    "    times = []\n",
    "    num_causal = 1000\n",
    "    for _ in range(10):\n",
    "        before = time.perf_counter()\n",
    "        sim_result = matrix(ts, 0.3, 1000, np.random.randint(low=1, high=100_000))\n",
    "        duration = time.perf_counter() - before\n",
    "        times.append(duration)\n",
    "    return np.array(times)"
   ]
  },
  {
   "cell_type": "code",
   "execution_count": null,
   "id": "1ce9175a",
   "metadata": {},
   "outputs": [],
   "source": [
    "num_ind_array = [1000, 5000, 10_000, 25_000]\n",
    "\n",
    "for num_ind in num_ind_array:\n",
    "    samples = {\"pop_0\": num_ind}\n",
    "    contig = species.get_contig(length=100_000_000)\n",
    "    ts = engine.simulate(model, contig, samples)\n",
    "    time_result[\"Martin_{}_{}Mb\".format(num_ind, 100)] = compute_time_martin(ts)"
   ]
  },
  {
   "cell_type": "code",
   "execution_count": null,
   "id": "7731f80d",
   "metadata": {},
   "outputs": [],
   "source": [
    "num_ind_array = [50_000, 100_000, 250_000, 500_000]\n",
    "\n",
    "for num_ind in num_ind_array:\n",
    "    length = 100\n",
    "    ts = tskit.load(\"{}_{}Mb_stdpopsim\".format(num_ind, length))\n",
    "    time_result[\"Martin_{}_{}Mb\".format(num_ind, length)] = compute_time_martin(ts)"
   ]
  },
  {
   "cell_type": "code",
   "execution_count": null,
   "id": "53feaa66",
   "metadata": {},
   "outputs": [],
   "source": [
    "time_df = pd.DataFrame(time_result)"
   ]
  },
  {
   "cell_type": "code",
   "execution_count": null,
   "id": "ced26842",
   "metadata": {},
   "outputs": [],
   "source": [
    "time_df.to_csv(\"output/previous_time.csv\")"
   ]
  }
 ],
 "metadata": {
  "kernelspec": {
   "display_name": "tstrait",
   "language": "python",
   "name": "tstrait"
  },
  "language_info": {
   "codemirror_mode": {
    "name": "ipython",
    "version": 3
   },
   "file_extension": ".py",
   "mimetype": "text/x-python",
   "name": "python",
   "nbconvert_exporter": "python",
   "pygments_lexer": "ipython3",
   "version": "3.11.5"
  }
 },
 "nbformat": 4,
 "nbformat_minor": 5
}
