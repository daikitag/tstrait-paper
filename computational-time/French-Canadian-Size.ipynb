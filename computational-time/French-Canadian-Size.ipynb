{
 "cells": [
  {
   "cell_type": "markdown",
   "id": "5a0ca2e8",
   "metadata": {},
   "source": [
    "# French Canadian\n",
    "\n",
    "This notebook estimates the computational size of the French Canadian dataset, and computes the time that it takes to load the dataframe by using tszip. This also examines the computational size of the compressed French Canadian dataset."
   ]
  },
  {
   "cell_type": "code",
   "execution_count": 1,
   "id": "cc3f6ec9",
   "metadata": {},
   "outputs": [],
   "source": [
    "import numpy as np\n",
    "import os\n",
    "import time\n",
    "import tszip"
   ]
  },
  {
   "cell_type": "code",
   "execution_count": 2,
   "id": "14b0d430",
   "metadata": {},
   "outputs": [
    {
     "data": {
      "text/plain": [
       "76.64165680005681"
      ]
     },
     "execution_count": 2,
     "metadata": {},
     "output_type": "execute_result"
    }
   ],
   "source": [
    "# Location of French Canadian dataset\n",
    "before = time.perf_counter()\n",
    "ts = tszip.decompress(\"data/simulated_genomes_chr9.tsz\")\n",
    "duration = time.perf_counter() - before\n",
    "duration"
   ]
  },
  {
   "cell_type": "code",
   "execution_count": 3,
   "id": "175eead0",
   "metadata": {},
   "outputs": [
    {
     "data": {
      "text/plain": [
       "2723339"
      ]
     },
     "execution_count": 3,
     "metadata": {},
     "output_type": "execute_result"
    }
   ],
   "source": [
    "ts.num_individuals"
   ]
  },
  {
   "cell_type": "code",
   "execution_count": 4,
   "id": "f299f2ef",
   "metadata": {},
   "outputs": [
    {
     "name": "stdout",
     "output_type": "stream",
     "text": [
      "zipped size is  1356776810 bytes\n"
     ]
    }
   ],
   "source": [
    "tszip_size = os.path.getsize(\"data/simulated_genomes_chr9.tsz\")\n",
    "print(\"zipped size is \", tszip_size, \"bytes\")"
   ]
  },
  {
   "cell_type": "code",
   "execution_count": 5,
   "id": "e5ab3df6",
   "metadata": {},
   "outputs": [],
   "source": [
    "ts_sub = ts.delete_sites(np.arange(1000, ts.num_sites))\n",
    "tmp_vcf = \"data/tmp.vcf\"\n",
    "with open(tmp_vcf, \"w\") as f:\n",
    "    ts_sub.write_vcf(f)"
   ]
  },
  {
   "cell_type": "code",
   "execution_count": 6,
   "id": "fcc6fff8",
   "metadata": {},
   "outputs": [
    {
     "name": "stdout",
     "output_type": "stream",
     "text": [
      "sub is  5723035308 bytes\n",
      "extrapolated size =  279836956795082.2 bytes\n"
     ]
    }
   ],
   "source": [
    "sub_size = os.path.getsize(tmp_vcf)\n",
    "total_size = ts.num_sites * sub_size / ts_sub.num_sites\n",
    "\n",
    "print(\"sub is \", sub_size, \"bytes\")\n",
    "print(\"extrapolated size = \", total_size, \"bytes\")"
   ]
  },
  {
   "cell_type": "code",
   "execution_count": 7,
   "id": "4e53af1d",
   "metadata": {},
   "outputs": [],
   "source": [
    "site_list = np.delete(np.arange(ts.num_sites), np.random.choice(ts.num_sites, 1000))"
   ]
  },
  {
   "cell_type": "code",
   "execution_count": 8,
   "id": "f03b36c1",
   "metadata": {},
   "outputs": [],
   "source": [
    "ts_sub = ts.delete_sites(site_list)\n",
    "tmp_vcf = \"data/tmp1.vcf\"\n",
    "with open(tmp_vcf, \"w\") as f:\n",
    "    ts_sub.write_vcf(f)"
   ]
  },
  {
   "cell_type": "code",
   "execution_count": 9,
   "id": "bd5bcc2a",
   "metadata": {},
   "outputs": [
    {
     "name": "stdout",
     "output_type": "stream",
     "text": [
      "sub is  5723038511 bytes\n",
      "extrapolated size =  279837113410885.56 bytes\n"
     ]
    }
   ],
   "source": [
    "sub_size = os.path.getsize(tmp_vcf)\n",
    "total_size = ts.num_sites * sub_size / ts_sub.num_sites\n",
    "\n",
    "print(\"sub is \", sub_size, \"bytes\")\n",
    "print(\"extrapolated size = \", total_size, \"bytes\")"
   ]
  }
 ],
 "metadata": {
  "kernelspec": {
   "display_name": "tstrait",
   "language": "python",
   "name": "tstrait"
  },
  "language_info": {
   "codemirror_mode": {
    "name": "ipython",
    "version": 3
   },
   "file_extension": ".py",
   "mimetype": "text/x-python",
   "name": "python",
   "nbconvert_exporter": "python",
   "pygments_lexer": "ipython3",
   "version": "3.11.5"
  }
 },
 "nbformat": 4,
 "nbformat_minor": 5
}
