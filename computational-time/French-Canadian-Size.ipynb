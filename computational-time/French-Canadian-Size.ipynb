{
 "cells": [
  {
   "cell_type": "markdown",
   "id": "5a0ca2e8",
   "metadata": {},
   "source": [
    "# French Canadian\n",
    "\n",
    "This notebook estimates the computational size of the French Canadian dataset, and computes the time that it takes to load the dataframe by using tszip. This also examines the computational size of the compressed French Canadian dataset and the compressed vcf file.\n",
    "\n",
    "The chromosome 9 data from the French Canadian dataset (`simulated_genomes_chr9.tsz`) is installed from https://zenodo.org/record/6839683.\n",
    "\n",
    "Please put it inside `data` folder before running the code."
   ]
  },
  {
   "cell_type": "code",
   "execution_count": 2,
   "id": "cc3f6ec9",
   "metadata": {},
   "outputs": [],
   "source": [
    "import gzip\n",
    "import humanize\n",
    "import numpy as np\n",
    "import os\n",
    "import shutil\n",
    "import time\n",
    "import tszip"
   ]
  },
  {
   "cell_type": "code",
   "execution_count": 3,
   "id": "14b0d430",
   "metadata": {},
   "outputs": [
    {
     "name": "stdout",
     "output_type": "stream",
     "text": [
      "CPU times: user 37.3 s, sys: 6.65 s, total: 44 s\n",
      "Wall time: 41 s\n"
     ]
    }
   ],
   "source": [
    "%%time\n",
    "ts = tszip.decompress(\"data/simulated_genomes_chr9.tsz\")"
   ]
  },
  {
   "cell_type": "code",
   "execution_count": 4,
   "id": "a692c158",
   "metadata": {},
   "outputs": [
    {
     "data": {
      "text/html": [
       "\n",
       "            <div>\n",
       "              <style>\n",
       "                .tskit-table thead tr th {text-align: left;padding: 0.5em 0.5em;}\n",
       "                .tskit-table tbody tr td {padding: 0.5em 0.5em;}\n",
       "                .tskit-table tbody tr td:first-of-type {text-align: left;}\n",
       "                .tskit-details-label {vertical-align: top; padding-right:5px;}\n",
       "                .tskit-table-set {display: inline-flex;flex-wrap: wrap;margin: -12px 0 0 -12px;width: calc(100% + 12px);}\n",
       "                .tskit-table-set-table {margin: 12px 0 0 12px;}\n",
       "                details {display: inline-block;}\n",
       "                summary {cursor: pointer; outline: 0; display: list-item;}\n",
       "              </style>\n",
       "              <div class=\"tskit-table-set\">\n",
       "                <div class=\"tskit-table-set-table\">\n",
       "                  <table class=\"tskit-table\">\n",
       "                    <thead>\n",
       "                      <tr>\n",
       "                        <th style=\"padding:0;line-height:21px;\">\n",
       "                          <img style=\"height: 32px;display: inline-block;padding: 3px 5px 3px 0;\" src=\"https://raw.githubusercontent.com/tskit-dev/administrative/main/tskit_logo.svg\"/>\n",
       "                          <a target=\"_blank\" href=\"https://tskit.dev/tskit/docs/latest/python-api.html#the-treesequence-class\"> Tree Sequence </a>\n",
       "                        </th>\n",
       "                      </tr>\n",
       "                    </thead>\n",
       "                    <tbody>\n",
       "                      <tr><td>Trees</td><td>9620114</td></tr>\n",
       "                      <tr><td>Sequence Length</td><td>141213431.0</td></tr>\n",
       "                      <tr><td>Time Units</td><td>generations</td></tr>\n",
       "                      <tr><td>Sample Nodes</td><td>2853498</td></tr>\n",
       "                      <tr><td>Total Size</td><td>5.8 GiB</td></tr>\n",
       "                      <tr>\n",
       "                        <td>Metadata</td><td style=\"text-align: left;\">No Metadata</td></tr>\n",
       "                    </tbody>\n",
       "                  </table>\n",
       "                </div>\n",
       "                <div class=\"tskit-table-set-table\">\n",
       "                  <table class=\"tskit-table\">\n",
       "                    <thead>\n",
       "                      <tr>\n",
       "                        <th style=\"line-height:21px;\">Table</th>\n",
       "                        <th>Rows</th>\n",
       "                        <th>Size</th>\n",
       "                        <th>Has Metadata</th>\n",
       "                      </tr>\n",
       "                    </thead>\n",
       "                    <tbody>\n",
       "                    \n",
       "                  <tr>\n",
       "                    <td>Edges</td>\n",
       "                      <td>53227614</td>\n",
       "                      <td>1.6 GiB</td>\n",
       "                      <td style=\"text-align: center;\">\n",
       "                        \n",
       "                      </td>\n",
       "                    </tr>\n",
       "                \n",
       "                  <tr>\n",
       "                    <td>Individuals</td>\n",
       "                      <td>2723339</td>\n",
       "                      <td>317.7 MiB</td>\n",
       "                      <td style=\"text-align: center;\">\n",
       "                        ✅\n",
       "                      </td>\n",
       "                    </tr>\n",
       "                \n",
       "                  <tr>\n",
       "                    <td>Migrations</td>\n",
       "                      <td>0</td>\n",
       "                      <td>8 Bytes</td>\n",
       "                      <td style=\"text-align: center;\">\n",
       "                        \n",
       "                      </td>\n",
       "                    </tr>\n",
       "                \n",
       "                  <tr>\n",
       "                    <td>Mutations</td>\n",
       "                      <td>60405514</td>\n",
       "                      <td>2.1 GiB</td>\n",
       "                      <td style=\"text-align: center;\">\n",
       "                        \n",
       "                      </td>\n",
       "                    </tr>\n",
       "                \n",
       "                  <tr>\n",
       "                    <td>Nodes</td>\n",
       "                      <td>9181851</td>\n",
       "                      <td>245.2 MiB</td>\n",
       "                      <td style=\"text-align: center;\">\n",
       "                        \n",
       "                      </td>\n",
       "                    </tr>\n",
       "                \n",
       "                  <tr>\n",
       "                    <td>Populations</td>\n",
       "                      <td>5</td>\n",
       "                      <td>507 Bytes</td>\n",
       "                      <td style=\"text-align: center;\">\n",
       "                        ✅\n",
       "                      </td>\n",
       "                    </tr>\n",
       "                \n",
       "                  <tr>\n",
       "                    <td>Provenances</td>\n",
       "                      <td>2</td>\n",
       "                      <td>10.6 MiB</td>\n",
       "                      <td style=\"text-align: center;\">\n",
       "                        \n",
       "                      </td>\n",
       "                    </tr>\n",
       "                \n",
       "                  <tr>\n",
       "                    <td>Sites</td>\n",
       "                      <td>48896598</td>\n",
       "                      <td>1.1 GiB</td>\n",
       "                      <td style=\"text-align: center;\">\n",
       "                        \n",
       "                      </td>\n",
       "                    </tr>\n",
       "                \n",
       "                    </tbody>\n",
       "                  </table>\n",
       "                </div>\n",
       "              </div>\n",
       "            </div>\n",
       "            "
      ],
      "text/plain": [
       "<tskit.trees.TreeSequence at 0x7fd76bfb8820>"
      ]
     },
     "execution_count": 4,
     "metadata": {},
     "output_type": "execute_result"
    }
   ],
   "source": [
    "ts"
   ]
  },
  {
   "cell_type": "code",
   "execution_count": 5,
   "id": "175eead0",
   "metadata": {
    "scrolled": true
   },
   "outputs": [
    {
     "data": {
      "text/plain": [
       "2723339"
      ]
     },
     "execution_count": 5,
     "metadata": {},
     "output_type": "execute_result"
    }
   ],
   "source": [
    "ts.num_individuals"
   ]
  },
  {
   "cell_type": "code",
   "execution_count": 6,
   "id": "7d8fdac6",
   "metadata": {},
   "outputs": [
    {
     "data": {
      "text/plain": [
       "1426749"
      ]
     },
     "execution_count": 6,
     "metadata": {},
     "output_type": "execute_result"
    }
   ],
   "source": [
    "ts.num_samples // 2"
   ]
  },
  {
   "cell_type": "code",
   "execution_count": 6,
   "id": "f299f2ef",
   "metadata": {},
   "outputs": [
    {
     "name": "stdout",
     "output_type": "stream",
     "text": [
      "tszip size is  1.36 GB\n"
     ]
    }
   ],
   "source": [
    "tszip_size = os.path.getsize(\"data/simulated_genomes_chr9.tsz\")\n",
    "print(\"tszip size is \", humanize.naturalsize(tszip_size, format='%.2f'))"
   ]
  },
  {
   "cell_type": "code",
   "execution_count": 8,
   "id": "e5ab3df6",
   "metadata": {},
   "outputs": [],
   "source": [
    "# Take the first 1000 sites and extrapolate\n",
    "ts_sub = ts.delete_sites(np.arange(1000, ts.num_sites))\n"
   ]
  },
  {
   "cell_type": "code",
   "execution_count": 14,
   "id": "68ff4c3b",
   "metadata": {},
   "outputs": [],
   "source": [
    "tmp_vcf = \"data/tmp.vcf\"\n",
    "with open(tmp_vcf, \"w\") as f:\n",
    "    ts_sub.write_vcf(f)"
   ]
  },
  {
   "cell_type": "code",
   "execution_count": 15,
   "id": "b41d5f08",
   "metadata": {},
   "outputs": [
    {
     "name": "stdout",
     "output_type": "stream",
     "text": [
      "sub is  5.723 GB\n",
      "extrapolated size is  280 TB\n"
     ]
    }
   ],
   "source": [
    "sub_size = os.path.getsize(tmp_vcf)\n",
    "total_size = ts.num_sites * sub_size / ts_sub.num_sites\n",
    "\n",
    "print(\"sub is \", humanize.naturalsize(sub_size, format='%.3f'))\n",
    "print(\"extrapolated size is \", humanize.naturalsize(total_size, format='%.3g'))"
   ]
  },
  {
   "cell_type": "code",
   "execution_count": 10,
   "id": "d75013ab",
   "metadata": {},
   "outputs": [],
   "source": [
    "%%bash\n",
    "gzip -k data/tmp.vcf"
   ]
  },
  {
   "cell_type": "code",
   "execution_count": 16,
   "id": "fcc6fff8",
   "metadata": {},
   "outputs": [
    {
     "name": "stdout",
     "output_type": "stream",
     "text": [
      "sub is  11.314 MB\n",
      "extrapolated size is  553 GB\n"
     ]
    }
   ],
   "source": [
    "tmp_vcfgz = \"data/tmp.vcf.gz\"\n",
    "sub_size = os.path.getsize(tmp_vcfgz)\n",
    "total_size = ts.num_sites * sub_size / ts_sub.num_sites\n",
    "\n",
    "print(\"sub is \", humanize.naturalsize(sub_size, format='%.3f'))\n",
    "print(\"extrapolated size is \", humanize.naturalsize(total_size, format='%.3g'))"
   ]
  },
  {
   "cell_type": "markdown",
   "id": "cf04874a",
   "metadata": {},
   "source": [
    "## What's the size of genotype matrix in bytes?"
   ]
  },
  {
   "cell_type": "code",
   "execution_count": 17,
   "id": "64f9493c",
   "metadata": {},
   "outputs": [
    {
     "data": {
      "text/plain": [
       "407.7327720746952"
      ]
     },
     "execution_count": 17,
     "metadata": {},
     "output_type": "execute_result"
    }
   ],
   "source": [
    "total_size / tszip_size"
   ]
  },
  {
   "cell_type": "code",
   "execution_count": 12,
   "id": "f2f4b5c4",
   "metadata": {},
   "outputs": [
    {
     "data": {
      "text/plain": [
       "'140 TB'"
      ]
     },
     "execution_count": 12,
     "metadata": {},
     "output_type": "execute_result"
    }
   ],
   "source": [
    "matrix_size = ts.num_samples * ts.num_sites\n",
    "humanize.naturalsize(matrix_size, format='%.3g')\n"
   ]
  }
 ],
 "metadata": {
  "kernelspec": {
   "display_name": "Python 3 (ipykernel)",
   "language": "python",
   "name": "python3"
  },
  "language_info": {
   "codemirror_mode": {
    "name": "ipython",
    "version": 3
   },
   "file_extension": ".py",
   "mimetype": "text/x-python",
   "name": "python",
   "nbconvert_exporter": "python",
   "pygments_lexer": "ipython3",
   "version": "3.10.12"
  }
 },
 "nbformat": 4,
 "nbformat_minor": 5
}
