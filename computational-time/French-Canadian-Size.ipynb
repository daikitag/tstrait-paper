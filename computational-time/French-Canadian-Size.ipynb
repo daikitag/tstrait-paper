{
 "cells": [
  {
   "cell_type": "markdown",
   "id": "5a0ca2e8",
   "metadata": {},
   "source": [
    "# French Canadian\n",
    "\n",
    "This notebook estimates the computational size of the French Canadian dataset, and computes the time that it takes to load the dataframe by using tszip. This also examines the computational size of the compressed French Canadian dataset and the compressed vcf file.\n",
    "\n",
    "The chromosome 9 data from the French Canadian dataset (`simulated_genomes_chr9.tsz`) is installed from https://zenodo.org/record/6839683.\n",
    "\n",
    "Please put it inside `data` folder before running the code."
   ]
  },
  {
   "cell_type": "code",
   "execution_count": 1,
   "id": "cc3f6ec9",
   "metadata": {},
   "outputs": [],
   "source": [
    "import gzip\n",
    "import humanize\n",
    "import numpy as np\n",
    "import os\n",
    "import shutil\n",
    "import time\n",
    "import tszip"
   ]
  },
  {
   "cell_type": "code",
   "execution_count": 2,
   "id": "14b0d430",
   "metadata": {},
   "outputs": [
    {
     "name": "stdout",
     "output_type": "stream",
     "text": [
      "CPU times: user 36.2 s, sys: 6.34 s, total: 42.6 s\n",
      "Wall time: 39 s\n"
     ]
    }
   ],
   "source": [
    "%%time\n",
    "ts = tszip.decompress(\"data/simulated_genomes_chr9.tsz\")"
   ]
  },
  {
   "cell_type": "code",
   "execution_count": 3,
   "id": "175eead0",
   "metadata": {
    "scrolled": true
   },
   "outputs": [
    {
     "data": {
      "text/plain": [
       "2723339"
      ]
     },
     "execution_count": 3,
     "metadata": {},
     "output_type": "execute_result"
    }
   ],
   "source": [
    "ts.num_individuals"
   ]
  },
  {
   "cell_type": "code",
   "execution_count": 5,
   "id": "27b8b15f",
   "metadata": {},
   "outputs": [
    {
     "data": {
      "text/plain": [
       "1426749"
      ]
     },
     "execution_count": 5,
     "metadata": {},
     "output_type": "execute_result"
    }
   ],
   "source": [
    "ts.num_samples // 2"
   ]
  },
  {
   "cell_type": "code",
   "execution_count": 6,
   "id": "f299f2ef",
   "metadata": {},
   "outputs": [
    {
     "name": "stdout",
     "output_type": "stream",
     "text": [
      "tszip size is  1.36 GB\n"
     ]
    }
   ],
   "source": [
    "tszip_size = os.path.getsize(\"data/simulated_genomes_chr9.tsz\")\n",
    "print(\"tszip size is \", humanize.naturalsize(tszip_size, format='%.2f'))"
   ]
  },
  {
   "cell_type": "code",
   "execution_count": 8,
   "id": "e5ab3df6",
   "metadata": {},
   "outputs": [],
   "source": [
    "# Take the first 1000 sites and extrapolate\n",
    "ts_sub = ts.delete_sites(np.arange(1000, ts.num_sites))\n"
   ]
  },
  {
   "cell_type": "code",
   "execution_count": 14,
   "id": "6c4d919b",
   "metadata": {},
   "outputs": [],
   "source": [
    "tmp_vcf = \"data/tmp.vcf\"\n",
    "with open(tmp_vcf, \"w\") as f:\n",
    "    ts_sub.write_vcf(f)"
   ]
  },
  {
   "cell_type": "code",
   "execution_count": 15,
   "id": "d659d2cb",
   "metadata": {},
   "outputs": [
    {
     "name": "stdout",
     "output_type": "stream",
     "text": [
      "sub is  5.723 GB\n",
      "extrapolated size is  280 TB\n"
     ]
    }
   ],
   "source": [
    "sub_size = os.path.getsize(tmp_vcf)\n",
    "total_size = ts.num_sites * sub_size / ts_sub.num_sites\n",
    "\n",
    "print(\"sub is \", humanize.naturalsize(sub_size, format='%.3f'))\n",
    "print(\"extrapolated size is \", humanize.naturalsize(total_size, format='%.3g'))"
   ]
  },
  {
   "cell_type": "code",
   "execution_count": 10,
   "id": "d75013ab",
   "metadata": {},
   "outputs": [],
   "source": [
    "%%bash\n",
    "gzip -k data/tmp.vcf"
   ]
  },
  {
   "cell_type": "code",
   "execution_count": 16,
   "id": "fcc6fff8",
   "metadata": {},
   "outputs": [
    {
     "name": "stdout",
     "output_type": "stream",
     "text": [
      "sub is  11.314 MB\n",
      "extrapolated size is  553 GB\n"
     ]
    }
   ],
   "source": [
    "tmp_vcfgz = \"data/tmp.vcf.gz\"\n",
    "sub_size = os.path.getsize(tmp_vcfgz)\n",
    "total_size = ts.num_sites * sub_size / ts_sub.num_sites\n",
    "\n",
    "print(\"sub is \", humanize.naturalsize(sub_size, format='%.3f'))\n",
    "print(\"extrapolated size is \", humanize.naturalsize(total_size, format='%.3g'))"
   ]
  },
  {
   "cell_type": "code",
   "execution_count": 17,
   "id": "7254f665",
   "metadata": {},
   "outputs": [
    {
     "data": {
      "text/plain": [
       "407.7327720746952"
      ]
     },
     "execution_count": 17,
     "metadata": {},
     "output_type": "execute_result"
    }
   ],
   "source": [
    "total_size / tszip_size"
   ]
  },
  {
   "cell_type": "code",
   "execution_count": null,
   "id": "57d3d91f",
   "metadata": {},
   "outputs": [],
   "source": []
  }
 ],
 "metadata": {
  "kernelspec": {
   "display_name": "Python 3 (ipykernel)",
   "language": "python",
   "name": "python3"
  },
  "language_info": {
   "codemirror_mode": {
    "name": "ipython",
    "version": 3
   },
   "file_extension": ".py",
   "mimetype": "text/x-python",
   "name": "python",
   "nbconvert_exporter": "python",
   "pygments_lexer": "ipython3",
   "version": "3.10.12"
  }
 },
 "nbformat": 4,
 "nbformat_minor": 5
}
