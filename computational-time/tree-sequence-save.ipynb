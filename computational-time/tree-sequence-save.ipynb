{
 "cells": [
  {
   "cell_type": "markdown",
   "id": "209c139f",
   "metadata": {},
   "source": [
    "# Saving tree sequence simulation\n",
    "\n",
    "This notebook simulates large sample tree sequences from stdpopsim and saves them for future use."
   ]
  },
  {
   "cell_type": "code",
   "execution_count": null,
   "id": "b9bf8098",
   "metadata": {},
   "outputs": [],
   "source": [
    "import stdpopsim\n",
    "import itertools"
   ]
  },
  {
   "cell_type": "code",
   "execution_count": null,
   "id": "fd5daf33",
   "metadata": {},
   "outputs": [],
   "source": [
    "species = stdpopsim.get_species(\"HomSap\")\n",
    "model = stdpopsim.PiecewiseConstantSize(species.population_size)\n",
    "engine = stdpopsim.get_engine(\"msprime\")"
   ]
  },
  {
   "cell_type": "code",
   "execution_count": null,
   "id": "800f56b4",
   "metadata": {},
   "outputs": [],
   "source": [
    "length_array = [50, 100, 200]\n",
    "num_ind_array = [1, 2, 3, 4, 5]\n",
    "\n",
    "for length, num_ind in itertools.product(length_array, num_ind_array):\n",
    "    samples = {\"pop_0\": num_ind * 1_000_000}\n",
    "    contig = species.get_contig(length= length * 1_000_000)\n",
    "    ts = engine.simulate(model, contig, samples)\n",
    "    ts.dump(\"data/{}e6_{}Mb_stdpopsim\".format(num_ind, length))"
   ]
  },
  {
   "cell_type": "code",
   "execution_count": null,
   "id": "2d4cedb8",
   "metadata": {},
   "outputs": [],
   "source": [
    "length_array = [50, 100, 200]\n",
    "num_ind_array = [50_000, 100_000, 250_000, 500_000]\n",
    "\n",
    "for length, num_ind in itertools.product(length_array, num_ind_array):\n",
    "    samples = {\"pop_0\": num_ind}\n",
    "    contig = species.get_contig(length= length * 1_000_000)\n",
    "    ts = engine.simulate(model, contig, samples)\n",
    "    ts.dump(\"data/{}_{}Mb_stdpopsim\".format(num_ind, length))"
   ]
  }
 ],
 "metadata": {
  "kernelspec": {
   "display_name": "tstrait",
   "language": "python",
   "name": "tstrait"
  },
  "language_info": {
   "codemirror_mode": {
    "name": "ipython",
    "version": 3
   },
   "file_extension": ".py",
   "mimetype": "text/x-python",
   "name": "python",
   "nbconvert_exporter": "python",
   "pygments_lexer": "ipython3",
   "version": "3.11.5"
  }
 },
 "nbformat": 4,
 "nbformat_minor": 5
}
