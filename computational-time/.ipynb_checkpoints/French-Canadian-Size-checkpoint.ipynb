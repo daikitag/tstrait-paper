{
 "cells": [
  {
   "cell_type": "markdown",
   "id": "5a0ca2e8",
   "metadata": {},
   "source": [
    "# French Canadian\n",
    "\n",
    "This notebook estimates the computational size of the French Canadian dataset, and computes the time that it takes to load the dataframe by using tszip. This also examines the computational size of the compressed French Canadian dataset and the compressed vcf file.\n",
    "\n",
    "The chromosome 9 data from the French Canadian dataset (`simulated_genomes_chr9.tsz`) is installed from https://zenodo.org/record/6839683.\n",
    "\n",
    "Please put it inside `data` folder before running the code."
   ]
  },
  {
   "cell_type": "code",
   "execution_count": 1,
   "id": "cc3f6ec9",
   "metadata": {},
   "outputs": [],
   "source": [
    "import gzip\n",
    "import humanize\n",
    "import numpy as np\n",
    "import os\n",
    "import shutil\n",
    "import time\n",
    "import tszip"
   ]
  },
  {
   "cell_type": "code",
   "execution_count": 2,
   "id": "14b0d430",
   "metadata": {},
   "outputs": [
    {
     "data": {
      "text/plain": [
       "62.88050389988348"
      ]
     },
     "execution_count": 2,
     "metadata": {},
     "output_type": "execute_result"
    }
   ],
   "source": [
    "# Location of French Canadian dataset\n",
    "before = time.perf_counter()\n",
    "ts = tszip.decompress(\"data/simulated_genomes_chr9.tsz\")\n",
    "duration = time.perf_counter() - before\n",
    "duration"
   ]
  },
  {
   "cell_type": "code",
   "execution_count": 3,
   "id": "175eead0",
   "metadata": {},
   "outputs": [
    {
     "data": {
      "text/plain": [
       "2723339"
      ]
     },
     "execution_count": 3,
     "metadata": {},
     "output_type": "execute_result"
    }
   ],
   "source": [
    "ts.num_individuals"
   ]
  },
  {
   "cell_type": "code",
   "execution_count": 4,
   "id": "f299f2ef",
   "metadata": {},
   "outputs": [
    {
     "name": "stdout",
     "output_type": "stream",
     "text": [
      "tszip size is  1.357 GB\n"
     ]
    }
   ],
   "source": [
    "tszip_size = os.path.getsize(\"data/simulated_genomes_chr9.tsz\")\n",
    "print(\"tszip size is \", humanize.naturalsize(tszip_size, format='%.3f'))"
   ]
  },
  {
   "cell_type": "code",
   "execution_count": 5,
   "id": "e5ab3df6",
   "metadata": {},
   "outputs": [],
   "source": [
    "ts_sub = ts.delete_sites(np.arange(1000, ts.num_sites))\n",
    "tmp_vcf = \"data/tmp.vcf\"\n",
    "with open(tmp_vcf, \"w\") as f:\n",
    "    ts_sub.write_vcf(f)"
   ]
  },
  {
   "cell_type": "code",
   "execution_count": 6,
   "id": "d75013ab",
   "metadata": {},
   "outputs": [],
   "source": [
    "with open(tmp_vcf, \"rb\") as f_in:\n",
    "    with gzip.open(\"data/tmp.gz\", \"wb\") as f_out:\n",
    "        shutil.copyfileobj(f_in, f_out)"
   ]
  },
  {
   "cell_type": "code",
   "execution_count": 7,
   "id": "fcc6fff8",
   "metadata": {},
   "outputs": [
    {
     "name": "stdout",
     "output_type": "stream",
     "text": [
      "sub is  5.723 GB\n",
      "extrapolated size is  279.837 TB\n"
     ]
    }
   ],
   "source": [
    "sub_size = os.path.getsize(tmp_vcf)\n",
    "total_size = ts.num_sites * sub_size / ts_sub.num_sites\n",
    "\n",
    "print(\"sub is \", humanize.naturalsize(sub_size, format='%.3f'))\n",
    "print(\"extrapolated size is \", humanize.naturalsize(total_size, format='%.3f'))"
   ]
  },
  {
   "cell_type": "code",
   "execution_count": 8,
   "id": "62e89e2b",
   "metadata": {},
   "outputs": [
    {
     "name": "stdout",
     "output_type": "stream",
     "text": [
      "gzip vcf sub size is  1.357 GB\n",
      "gzip vcf extrapolated size is  66.342 TB\n"
     ]
    }
   ],
   "source": [
    "gzip_vcf_sub_size = os.path.getsize(\"data/simulated_genomes_chr9.tsz\")\n",
    "gzip_vcf_size = ts.num_sites * gzip_vcf_sub_size / ts_sub.num_sites\n",
    "print(\"gzip vcf sub size is \", humanize.naturalsize(gzip_vcf_sub_size, format='%.3f'))\n",
    "print(\"gzip vcf extrapolated size is \", humanize.naturalsize(gzip_vcf_size, format='%.3f'))"
   ]
  },
  {
   "cell_type": "code",
   "execution_count": 9,
   "id": "4e53af1d",
   "metadata": {},
   "outputs": [],
   "source": [
    "ts_sub = ts.delete_sites(np.arange(10000, ts.num_sites))\n",
    "tmp_vcf = \"data/tmp.vcf\"\n",
    "with open(tmp_vcf, \"w\") as f:\n",
    "    ts_sub.write_vcf(f)"
   ]
  },
  {
   "cell_type": "code",
   "execution_count": 10,
   "id": "f03b36c1",
   "metadata": {},
   "outputs": [],
   "source": [
    "with open(tmp_vcf, \"rb\") as f_in:\n",
    "    with gzip.open(\"data/tmp.gz\", \"wb\") as f_out:\n",
    "        shutil.copyfileobj(f_in, f_out)"
   ]
  },
  {
   "cell_type": "code",
   "execution_count": 11,
   "id": "bd5bcc2a",
   "metadata": {},
   "outputs": [
    {
     "name": "stdout",
     "output_type": "stream",
     "text": [
      "sub is  57.086 GB\n",
      "extrapolated size is  279.132 TB\n"
     ]
    }
   ],
   "source": [
    "sub_size = os.path.getsize(tmp_vcf)\n",
    "total_size = ts.num_sites * sub_size / ts_sub.num_sites\n",
    "\n",
    "print(\"sub is \", humanize.naturalsize(sub_size, format='%.3f'))\n",
    "print(\"extrapolated size is \", humanize.naturalsize(total_size, format='%.3f'))"
   ]
  },
  {
   "cell_type": "code",
   "execution_count": 12,
   "id": "3f581ac2",
   "metadata": {},
   "outputs": [
    {
     "name": "stdout",
     "output_type": "stream",
     "text": [
      "gzip vcf sub size is  1.357 GB\n",
      "gzip vcf extrapolated size is  6.634 TB\n"
     ]
    }
   ],
   "source": [
    "gzip_vcf_sub_size = os.path.getsize(\"data/simulated_genomes_chr9.tsz\")\n",
    "gzip_vcf_size = ts.num_sites * gzip_vcf_sub_size / ts_sub.num_sites\n",
    "print(\"gzip vcf sub size is \", humanize.naturalsize(gzip_vcf_sub_size, format='%.3f'))\n",
    "print(\"gzip vcf extrapolated size is \", humanize.naturalsize(gzip_vcf_size, format='%.3f'))"
   ]
  }
 ],
 "metadata": {
  "kernelspec": {
   "display_name": "tstrait",
   "language": "python",
   "name": "tstrait"
  },
  "language_info": {
   "codemirror_mode": {
    "name": "ipython",
    "version": 3
   },
   "file_extension": ".py",
   "mimetype": "text/x-python",
   "name": "python",
   "nbconvert_exporter": "python",
   "pygments_lexer": "ipython3",
   "version": "3.11.5"
  }
 },
 "nbformat": 4,
 "nbformat_minor": 5
}
