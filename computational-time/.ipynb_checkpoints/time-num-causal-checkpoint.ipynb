{
 "cells": [
  {
   "cell_type": "markdown",
   "id": "3ac160d6",
   "metadata": {},
   "source": [
    "# Number of causal sites\n",
    "\n",
    "This notebook uses the French Canadian dataset and the inferred tree sequence from the 1000 Genomes Project to examine how the number of causal sites is influencing the simulation speed.\n",
    "\n",
    "### Dataset:\n",
    "\n",
    "The datasets are obtained from the following links:\n",
    "\n",
    "- French Canadian dataset (`simulated_genomes_chr9.tsz`) is installed from https://zenodo.org/record/6839683\n",
    "- 1000 Genomes Project dataset (`1kg_chr9.trees.tsz`) is installed from https://zenodo.org/record/3051855\n",
    "\n",
    "Please put the datasets in `data` folder before running the codes.\n",
    "\n",
    "### Note:\n",
    "\n",
    "The code to measure the simulation time of the French Canadian dataset will be very long. We suggest that you run the code overnight.\n",
    "\n",
    "The saved computational time dataframes will be used in `figure.ipynb` to generate the computational time plots."
   ]
  },
  {
   "cell_type": "code",
   "execution_count": null,
   "id": "c8b96254",
   "metadata": {},
   "outputs": [],
   "source": [
    "import tstrait\n",
    "import tskit\n",
    "import time\n",
    "import numpy as np\n",
    "import pandas as pd\n",
    "import tszip\n",
    "import msprime"
   ]
  },
  {
   "cell_type": "code",
   "execution_count": null,
   "id": "7201803e",
   "metadata": {},
   "outputs": [],
   "source": [
    "# Run this code before measuring the computational time, as tstrait uses numba\n",
    "ts = msprime.sim_ancestry(samples=1000, recombination_rate=1e-8, sequence_length=10_000, population_size=10_000,)\n",
    "ts = msprime.sim_mutations(ts, rate=1e-8)\n",
    "trait_model = tstrait.trait_model(distribution=\"normal\", mean=0, var=1)\n",
    "sim_result = tstrait.sim_phenotype(ts, 1, trait_model, 0.3)"
   ]
  },
  {
   "cell_type": "code",
   "execution_count": null,
   "id": "35e1cd40",
   "metadata": {},
   "outputs": [],
   "source": [
    "def compute_time_tstrait(ts, num_causal):\n",
    "    times = []\n",
    "    trait_model = tstrait.trait_model(distribution=\"normal\", mean=0, var=1)\n",
    "    for _ in range(10):\n",
    "        before = time.perf_counter()\n",
    "        sim_result = tstrait.sim_phenotype(ts, num_causal, trait_model, 0.3)\n",
    "        duration = time.perf_counter() - before\n",
    "        times.append(duration)\n",
    "    return np.array(times)"
   ]
  },
  {
   "cell_type": "code",
   "execution_count": null,
   "id": "8f9e86ca",
   "metadata": {},
   "outputs": [],
   "source": [
    "# French Canadian dataset\n",
    "ts = tszip.decompress(\"data/simulated_genomes_chr9.tsz\")"
   ]
  },
  {
   "cell_type": "code",
   "execution_count": null,
   "id": "0f486f03",
   "metadata": {},
   "outputs": [],
   "source": [
    "time_result = {}"
   ]
  },
  {
   "cell_type": "code",
   "execution_count": null,
   "id": "2efd85e9",
   "metadata": {},
   "outputs": [],
   "source": [
    "# Note: This code is computationally intensive. Please only run it if you can do it overnight\n",
    "num_causal_array = [50, 100, 500, 1000, 2500, 5000, 7500, 10_000]\n",
    "\n",
    "for num_causal in num_causal_array:\n",
    "    time_result[\"French_Canadian_{}\".format(num_causal)] = compute_time_tstrait(ts, num_causal)"
   ]
  },
  {
   "cell_type": "code",
   "execution_count": null,
   "id": "26d9c3eb",
   "metadata": {},
   "outputs": [],
   "source": [
    "# 1000 Genomes project\n",
    "ts = tszip.decompress(\"data/1kg_chr9.trees.tsz\")"
   ]
  },
  {
   "cell_type": "code",
   "execution_count": null,
   "id": "a7f038ee",
   "metadata": {},
   "outputs": [],
   "source": [
    "num_causal_array = [50, 100, 500, 1000, 2500, 5000, 7500, 10_000]\n",
    "\n",
    "for num_causal in num_causal_array:\n",
    "    time_result[\"1000_Genomes_{}\".format(num_causal)] = compute_time_tstrait(ts, num_causal)"
   ]
  },
  {
   "cell_type": "code",
   "execution_count": null,
   "id": "267402ea",
   "metadata": {},
   "outputs": [],
   "source": [
    "time_df = pd.DataFrame(time_result)"
   ]
  },
  {
   "cell_type": "code",
   "execution_count": null,
   "id": "402b8e71",
   "metadata": {},
   "outputs": [],
   "source": [
    "time_df.to_csv(\"output/tstrait_num_causal.csv\")"
   ]
  }
 ],
 "metadata": {
  "kernelspec": {
   "display_name": "tstrait",
   "language": "python",
   "name": "tstrait"
  },
  "language_info": {
   "codemirror_mode": {
    "name": "ipython",
    "version": 3
   },
   "file_extension": ".py",
   "mimetype": "text/x-python",
   "name": "python",
   "nbconvert_exporter": "python",
   "pygments_lexer": "ipython3",
   "version": "3.11.5"
  }
 },
 "nbformat": 4,
 "nbformat_minor": 5
}
